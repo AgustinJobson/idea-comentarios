{
 "cells": [
  {
   "cell_type": "code",
   "execution_count": null,
   "id": "0427ebbb",
   "metadata": {},
   "outputs": [],
   "source": [
    "import warnings\n",
    "warnings.filterwarnings(\"ignore\")\n",
    "\n",
    "import pandas as pd\n",
    "import requests\n",
    "import json\n",
    "import plotly.graph_objects as go\n",
    "import plotly.express as px\n",
    "import nltk\n",
    "import re\n",
    "from unicodedata import normalize\n",
    "from nltk.corpus import stopwords \n",
    "pd.set_option('display.max_colwidth', None)"
   ]
  },
  {
   "cell_type": "code",
   "execution_count": null,
   "id": "d8f819cf",
   "metadata": {},
   "outputs": [],
   "source": [
    "# Esta linea es importante para descargar el archivo con las stopwords en el path indicado\n",
    "# Una vez descargado ya se puede comentar o eliminar la linea\n",
    "# La dejo a modo de documentación \n",
    "\n",
    "# nltk.download('stopwords', download_dir='/home/agu/Desktop/tesis/stopwords')"
   ]
  },
  {
   "cell_type": "code",
   "execution_count": null,
   "id": "efcabef4",
   "metadata": {},
   "outputs": [],
   "source": [
    "# Con esta linea se agrega el path en el que se descargaron las stopwords\n",
    "# Es importante ya que sino no va a encontrar el archivo\n",
    "\n",
    "nltk.data.path.append(\"/home/agu/Desktop/tesis/stopwords\") "
   ]
  },
  {
   "cell_type": "code",
   "execution_count": null,
   "id": "18ff37b3",
   "metadata": {},
   "outputs": [],
   "source": [
    "def convert_response_to_list(reviews):\n",
    "    list_reviews = []\n",
    "    for review in reviews:\n",
    "        new_json = {\n",
    "            \"titulo\": review['title'],\n",
    "            \"comentario\": review['content'].lower(),\n",
    "            \"valoracion\": review['rate']\n",
    "        }\n",
    "        \n",
    "        list_reviews.append(new_json)\n",
    "    return list_reviews\n",
    "\n",
    "def obtener_df_reviews(idProd):\n",
    "    url_api = \"https://api.mercadolibre.com/reviews/item/\"\n",
    "    url = url_api + idProd\n",
    "    args = {'limit': 200}\n",
    "\n",
    "    response = requests.get(url, params=args)\n",
    "    if response.status_code != 200:\n",
    "        return \"\"\n",
    "    response_json = json.loads(response.text)\n",
    "    reviews = convert_response_to_list(response_json['reviews'])\n",
    "    df = pd.DataFrame.from_records(reviews)\n",
    "    return df\n",
    "\n",
    "def preprocesar_comentarios_df(df):\n",
    "    # Elimino signos como guines, dos puntos, etc.\n",
    "    df[\"comentario\"] = df['comentario'].str.replace('[^\\w\\s]','')\n",
    "    \n",
    "    # Dejo solo las palabras que no se encuentren dentro de las stopwords y que no son numericas\n",
    "    df[\"comentario\"] = df[\"comentario\"].apply(\n",
    "        lambda x: ' '.join(\n",
    "            [word for word in x.split() if (word.lower() not in (stop)) and (word.isnumeric() == False)]\n",
    "        )\n",
    "    )\n",
    "    \n",
    "    # Con estas sentencias elimino todo tilpo de tildes, dieresis, etc (a excepcion de las ñ)\n",
    "    df[\"comentario\"] = df[\"comentario\"].apply(\n",
    "        lambda x: normalize(\n",
    "            'NFC', \n",
    "             re.sub(\n",
    "                r\"([^n\\u0300-\\u036f]|n(?!\\u0303(?![\\u0300-\\u036f])))[\\u0300-\\u036f]+\", r\"\\1\", \n",
    "                normalize(\"NFD\", x), 0, re.I\n",
    "            )                  \n",
    "       )\n",
    "    )\n",
    "    \n",
    "    return df[[\"comentario\"]]\n",
    "\n",
    "def contar_frecuencia_palabras_df(df):\n",
    "    # Cuento la frecuencia con la que aparece cada palabra\n",
    "    df_frecuencia = df.comentario.str.split(expand=True).stack().value_counts().reset_index()\n",
    "    df_frecuencia.columns = ['palabra', 'frecuencia']\n",
    "    return df_frecuencia\n",
    "\n",
    "def plotear_frecuencia_palabras(df, tope_palabras, producto):\n",
    "    fig = px.bar(\n",
    "        df[0:tope_palabras], \n",
    "        x='palabra', \n",
    "        y='frecuencia',\n",
    "        title = f'Top 50 palabras con mayor frecuencia del producto \"{producto}\"',\n",
    "        labels = {\n",
    "            \"frecuencia\": \"Cantidad de veces que aparece la palabra\",\n",
    "            \"palabra\": \"Palabra\"\n",
    "        }\n",
    "    )\n",
    "    fig.show()"
   ]
  },
  {
   "cell_type": "code",
   "execution_count": null,
   "id": "efcdfcef",
   "metadata": {},
   "outputs": [],
   "source": [
    "df_prod_1 = obtener_df_reviews(\"MLA17464694\") # Samsung A02\n",
    "df_prod_2 = obtener_df_reviews(\"MLA17415925\") # Samsung A12\n",
    "df_prod_3 = obtener_df_reviews(\"MLA17706115\") # Samsung A32"
   ]
  },
  {
   "cell_type": "markdown",
   "id": "2662eaca",
   "metadata": {},
   "source": [
    "# 1er Análisis: Relación entre la valoración del comentario y el contenido"
   ]
  },
  {
   "cell_type": "code",
   "execution_count": null,
   "id": "8bf74e43",
   "metadata": {
    "scrolled": false
   },
   "outputs": [],
   "source": [
    "df_prod_1.iloc[[1,28,31,58,126,141,60,47,129,12]]"
   ]
  },
  {
   "cell_type": "code",
   "execution_count": null,
   "id": "60097077",
   "metadata": {},
   "outputs": [],
   "source": [
    "df_prod_2.iloc[[146,94,85,178,199,24,16,1,28,79,57]]"
   ]
  },
  {
   "cell_type": "code",
   "execution_count": null,
   "id": "269fa996",
   "metadata": {},
   "outputs": [],
   "source": [
    "df_prod_3.iloc[[100,69,59,7,189,171,56,22,10,60,42,3,12,112]]"
   ]
  },
  {
   "cell_type": "code",
   "execution_count": null,
   "id": "cb0f995d",
   "metadata": {},
   "outputs": [],
   "source": [
    "porc_prod_1 = round((len(df_prod_1.iloc[[11,28,31,58,126,141,60,47,129,12]]) / len(df_prod_1)) * 100, 2)\n",
    "porc_prod_2 = round((len(df_prod_2.iloc[[146,94,85,178,199,24,16,1,28,79,57]]) / len(df_prod_2)) * 100, 2)\n",
    "porc_prod_3 = round((len(df_prod_3.iloc[[100,69,59,7,189,171,56,22,10,60,42,3,12,112]]) / len(df_prod_3)) * 100, 2)"
   ]
  },
  {
   "cell_type": "code",
   "execution_count": null,
   "id": "aa58ae99",
   "metadata": {},
   "outputs": [],
   "source": [
    "productos = ['Samsung A02', 'Samsung A12', 'Samsung A32']\n",
    "\n",
    "fig = go.Figure([go.Bar(x=productos, y=[porc_prod_1, porc_prod_2, porc_prod_3])])\n",
    "\n",
    "fig.update_yaxes(\n",
    "    title = \"Porcentaje\"\n",
    ")\n",
    "\n",
    "fig.update_layout(\n",
    "    title = \"Porcentaje de comentarios con valoración errónea\",\n",
    ")\n",
    "\n",
    "fig.show()"
   ]
  },
  {
   "cell_type": "markdown",
   "id": "8c51dff1",
   "metadata": {},
   "source": [
    "# 2do Análisis"
   ]
  },
  {
   "cell_type": "code",
   "execution_count": null,
   "id": "532401e4",
   "metadata": {},
   "outputs": [],
   "source": [
    "df_prod_1_positivos = df_prod_1[df_prod_1[\"comentario\"].str.contains(\"bueno\")]\n",
    "df_prod_1_negativos = df_prod_1[df_prod_1[\"comentario\"].str.contains(\"malo\")]\n",
    "porc_comentarios_positivos_prod_1 = (len(df_prod_1_positivos) / len(df_prod_1)) * 100\n",
    "porc_comentarios_negativos_prod_1 = (len(df_prod_1_negativos) / len(df_prod_1)) * 100\n",
    "\n",
    "\n",
    "df_prod_2_positivos = df_prod_2[df_prod_2[\"comentario\"].str.contains(\"bueno\")]\n",
    "df_prod_2_negativos = df_prod_2[df_prod_2[\"comentario\"].str.contains(\"malo\")]\n",
    "porc_comentarios_positivos_prod_2 = (len(df_prod_2_positivos) / len(df_prod_2)) * 100\n",
    "porc_comentarios_negativos_prod_2 = (len(df_prod_2_negativos) / len(df_prod_2)) * 100\n",
    "\n",
    "\n",
    "df_prod_3_positivos = df_prod_3[df_prod_3[\"comentario\"].str.contains(\"bueno\")]\n",
    "df_prod_3_negativos = df_prod_3[df_prod_3[\"comentario\"].str.contains(\"malo\")]\n",
    "porc_comentarios_positivos_prod_3 = (len(df_prod_3_positivos) / len(df_prod_3)) * 100\n",
    "porc_comentarios_negativos_prod_3 = (len(df_prod_3_negativos) / len(df_prod_3)) * 100"
   ]
  },
  {
   "cell_type": "code",
   "execution_count": null,
   "id": "c6767270",
   "metadata": {},
   "outputs": [],
   "source": [
    "productos = ['Samsung A02', 'Samsung A12', 'Samsung A32']\n",
    "\n",
    "fig = go.Figure(data=[\n",
    "    go.Bar(name='Positivos', x = productos, y=[porc_comentarios_positivos_prod_1, porc_comentarios_positivos_prod_2, porc_comentarios_positivos_prod_3]),\n",
    "    go.Bar(name='Negativos', x = productos, y=[porc_comentarios_negativos_prod_1, porc_comentarios_negativos_prod_2, porc_comentarios_negativos_prod_3])\n",
    "])\n",
    "\n",
    "fig.update_yaxes(\n",
    "    title = \"Porcentaje\"\n",
    ")\n",
    "\n",
    "fig.update_layout(\n",
    "    title = \"Porcentaje de comentarios POSITIVOS y NEGATIVOS por Producto\",\n",
    ")\n",
    "\n",
    "fig.show()"
   ]
  },
  {
   "cell_type": "markdown",
   "id": "69e522a5",
   "metadata": {},
   "source": [
    "## Algunos Ejemplos"
   ]
  },
  {
   "cell_type": "markdown",
   "id": "a11b1ede",
   "metadata": {},
   "source": [
    "### Samsung A02"
   ]
  },
  {
   "cell_type": "code",
   "execution_count": null,
   "id": "a687d52c",
   "metadata": {},
   "outputs": [],
   "source": [
    "df_prod_1_positivos.head(5)"
   ]
  },
  {
   "cell_type": "code",
   "execution_count": null,
   "id": "fdf61d98",
   "metadata": {},
   "outputs": [],
   "source": [
    "df_prod_1_negativos"
   ]
  },
  {
   "cell_type": "markdown",
   "id": "2a63bed5",
   "metadata": {},
   "source": [
    "### Samsung A12"
   ]
  },
  {
   "cell_type": "code",
   "execution_count": null,
   "id": "585bf66d",
   "metadata": {},
   "outputs": [],
   "source": [
    "df_prod_2_positivos.head(5)"
   ]
  },
  {
   "cell_type": "code",
   "execution_count": null,
   "id": "8fc532ad",
   "metadata": {},
   "outputs": [],
   "source": [
    "df_prod_2_negativos"
   ]
  },
  {
   "cell_type": "markdown",
   "id": "a9d48fdf",
   "metadata": {},
   "source": [
    "### Samsung A32"
   ]
  },
  {
   "cell_type": "code",
   "execution_count": null,
   "id": "5e333972",
   "metadata": {},
   "outputs": [],
   "source": [
    "df_prod_3_positivos.head(5)"
   ]
  },
  {
   "cell_type": "code",
   "execution_count": null,
   "id": "b7c3cf63",
   "metadata": {},
   "outputs": [],
   "source": [
    "df_prod_3_negativos"
   ]
  },
  {
   "cell_type": "markdown",
   "id": "aef111ab",
   "metadata": {},
   "source": [
    "# 3. ¿Cual es la distribución de palabras mas frecuentemente utilizada?"
   ]
  },
  {
   "cell_type": "code",
   "execution_count": null,
   "id": "e1f14584",
   "metadata": {},
   "outputs": [],
   "source": [
    "stop = stopwords.words('spanish')"
   ]
  },
  {
   "cell_type": "code",
   "execution_count": null,
   "id": "ee8a750c",
   "metadata": {},
   "outputs": [],
   "source": [
    "df_prod_1_procesado = preprocesar_comentarios_df(df_prod_1)\n",
    "df_prod_2_procesado = preprocesar_comentarios_df(df_prod_2)\n",
    "df_prod_3_procesado = preprocesar_comentarios_df(df_prod_3)"
   ]
  },
  {
   "cell_type": "code",
   "execution_count": null,
   "id": "901e9f58",
   "metadata": {},
   "outputs": [],
   "source": [
    "frecuencia_palabras_prod_1 = contar_frecuencia_palabras_df(df_prod_1_procesado)\n",
    "frecuencia_palabras_prod_2 = contar_frecuencia_palabras_df(df_prod_2_procesado)\n",
    "frecuencia_palabras_prod_3 = contar_frecuencia_palabras_df(df_prod_3_procesado)"
   ]
  },
  {
   "cell_type": "code",
   "execution_count": null,
   "id": "19a869e3",
   "metadata": {},
   "outputs": [],
   "source": [
    "plotear_frecuencia_palabras(frecuencia_palabras_prod_1, 50, \"Samsung A02\")\n",
    "plotear_frecuencia_palabras(frecuencia_palabras_prod_2, 50, \"Samsung A12\")\n",
    "plotear_frecuencia_palabras(frecuencia_palabras_prod_3, 50, \"Samsung A32\")"
   ]
  }
 ],
 "metadata": {
  "kernelspec": {
   "display_name": "Python 3 (ipykernel)",
   "language": "python",
   "name": "python3"
  },
  "language_info": {
   "codemirror_mode": {
    "name": "ipython",
    "version": 3
   },
   "file_extension": ".py",
   "mimetype": "text/x-python",
   "name": "python",
   "nbconvert_exporter": "python",
   "pygments_lexer": "ipython3",
   "version": "3.8.10"
  }
 },
 "nbformat": 4,
 "nbformat_minor": 5
}
