{
 "cells": [
  {
   "cell_type": "code",
   "execution_count": null,
   "id": "0427ebbb",
   "metadata": {},
   "outputs": [],
   "source": [
    "import numpy\n",
    "import pandas as pd\n",
    "import matplotlib\n",
    "import keras\n",
    "import h5py\n",
    "import PIL\n",
    "import seaborn\n",
    "import plotly\n",
    "import requests\n",
    "import json\n",
    "import plotly.graph_objects as go\n",
    "pd.set_option('display.max_colwidth', None)"
   ]
  },
  {
   "cell_type": "code",
   "execution_count": null,
   "id": "18ff37b3",
   "metadata": {},
   "outputs": [],
   "source": [
    "def convert_response_to_list(reviews):\n",
    "    list_reviews = []\n",
    "    for review in reviews:\n",
    "        new_json = {\n",
    "            \"titulo\": review['title'],\n",
    "            \"comentario\": review['content'].lower(),\n",
    "            \"valoracion\": review['rate']\n",
    "        }\n",
    "        \n",
    "        list_reviews.append(new_json)\n",
    "    return list_reviews\n",
    "\n",
    "def obtener_df_reviews(idProd):\n",
    "    url_api = \"https://api.mercadolibre.com/reviews/item/\"\n",
    "    url = url_api + idProd\n",
    "    args = {'limit': 200}\n",
    "\n",
    "    response = requests.get(url, params=args)\n",
    "    if response.status_code != 200:\n",
    "        return \"\"\n",
    "    response_json = json.loads(response.text)\n",
    "    reviews = convert_response_to_list(response_json['reviews'])\n",
    "    df = pd.DataFrame.from_records(reviews)\n",
    "    return df"
   ]
  },
  {
   "cell_type": "code",
   "execution_count": null,
   "id": "efcdfcef",
   "metadata": {},
   "outputs": [],
   "source": [
    "df_prod_1 = obtener_df_reviews(\"MLA17464694\") # Samsung A02\n",
    "df_prod_2 = obtener_df_reviews(\"MLA17415925\") # Samsung A12\n",
    "df_prod_3 = obtener_df_reviews(\"MLA17706115\") # Samsung A32"
   ]
  },
  {
   "cell_type": "markdown",
   "id": "2662eaca",
   "metadata": {},
   "source": [
    "# 1er Análisis: Relación entre la valoración del comentario y el contenido"
   ]
  },
  {
   "cell_type": "code",
   "execution_count": null,
   "id": "8bf74e43",
   "metadata": {},
   "outputs": [],
   "source": [
    "df_prod_1.iloc[[1,28,58,126,141,60]]"
   ]
  },
  {
   "cell_type": "code",
   "execution_count": null,
   "id": "60097077",
   "metadata": {},
   "outputs": [],
   "source": [
    "df_prod_2.iloc[[146,94,85,178,199,24,16]]"
   ]
  },
  {
   "cell_type": "code",
   "execution_count": null,
   "id": "269fa996",
   "metadata": {},
   "outputs": [],
   "source": [
    "df_prod_3[df_prod_3[\"valoracion\"] < 3]\n",
    "#df_prod_2.iloc[[]]"
   ]
  },
  {
   "cell_type": "markdown",
   "id": "8c51dff1",
   "metadata": {},
   "source": [
    "# 2do Análisis"
   ]
  },
  {
   "cell_type": "code",
   "execution_count": null,
   "id": "532401e4",
   "metadata": {},
   "outputs": [],
   "source": [
    "df_prod_1_positivos = df_prod_1[df_prod_1[\"comentario\"].str.contains(\"bueno\")]\n",
    "df_prod_1_negativos = df_prod_1[df_prod_1[\"comentario\"].str.contains(\"malo\")]\n",
    "porc_comentarios_positivos_prod_1 = (len(df_prod_1_positivos) / len(df_prod_1)) * 100\n",
    "porc_comentarios_negativos_prod_1 = (len(df_prod_1_negativos) / len(df_prod_1)) * 100\n",
    "\n",
    "\n",
    "df_prod_2_positivos = df_prod_2[df_prod_2[\"comentario\"].str.contains(\"bueno\")]\n",
    "df_prod_2_negativos = df_prod_2[df_prod_2[\"comentario\"].str.contains(\"malo\")]\n",
    "porc_comentarios_positivos_prod_2 = (len(df_prod_2_positivos) / len(df_prod_2)) * 100\n",
    "porc_comentarios_negativos_prod_2 = (len(df_prod_2_negativos) / len(df_prod_2)) * 100\n",
    "\n",
    "\n",
    "df_prod_3_positivos = df_prod_3[df_prod_3[\"comentario\"].str.contains(\"bueno\")]\n",
    "df_prod_3_negativos = df_prod_3[df_prod_3[\"comentario\"].str.contains(\"malo\")]\n",
    "porc_comentarios_positivos_prod_3 = (len(df_prod_3_positivos) / len(df_prod_3)) * 100\n",
    "porc_comentarios_negativos_prod_3 = (len(df_prod_3_negativos) / len(df_prod_3)) * 100"
   ]
  },
  {
   "cell_type": "code",
   "execution_count": null,
   "id": "c6767270",
   "metadata": {},
   "outputs": [],
   "source": [
    "productos = ['Samsung A02', 'Samsung A12', 'Samsung A32']\n",
    "\n",
    "fig = go.Figure(data=[\n",
    "    go.Bar(name='Positivos', x = productos, y=[porc_comentarios_positivos_prod_1, porc_comentarios_positivos_prod_2, porc_comentarios_positivos_prod_3]),\n",
    "    go.Bar(name='Negativos', x = productos, y=[porc_comentarios_negativos_prod_1, porc_comentarios_negativos_prod_2, porc_comentarios_negativos_prod_3])\n",
    "])\n",
    "\n",
    "fig.update_yaxes(\n",
    "    title = \"Porcentaje\"\n",
    ")\n",
    "\n",
    "fig.update_layout(\n",
    "    title = \"Porcentaje de comentarios POSITIVOS y NEGATIVOS por Producto\",\n",
    ")\n",
    "\n",
    "fig.show()"
   ]
  },
  {
   "cell_type": "markdown",
   "id": "69e522a5",
   "metadata": {},
   "source": [
    "## Algunos Ejemplos"
   ]
  },
  {
   "cell_type": "markdown",
   "id": "a11b1ede",
   "metadata": {},
   "source": [
    "### Samsung A02"
   ]
  },
  {
   "cell_type": "code",
   "execution_count": null,
   "id": "a687d52c",
   "metadata": {},
   "outputs": [],
   "source": [
    "df_prod_1_positivos.head(5)"
   ]
  },
  {
   "cell_type": "code",
   "execution_count": null,
   "id": "fdf61d98",
   "metadata": {},
   "outputs": [],
   "source": [
    "df_prod_1_negativos"
   ]
  },
  {
   "cell_type": "markdown",
   "id": "2a63bed5",
   "metadata": {},
   "source": [
    "### Samsung A12"
   ]
  },
  {
   "cell_type": "code",
   "execution_count": null,
   "id": "585bf66d",
   "metadata": {},
   "outputs": [],
   "source": [
    "df_prod_2_positivos.head(5)"
   ]
  },
  {
   "cell_type": "code",
   "execution_count": null,
   "id": "8fc532ad",
   "metadata": {},
   "outputs": [],
   "source": [
    "df_prod_2_negativos"
   ]
  },
  {
   "cell_type": "markdown",
   "id": "a9d48fdf",
   "metadata": {},
   "source": [
    "### Samsung A32"
   ]
  },
  {
   "cell_type": "code",
   "execution_count": null,
   "id": "5e333972",
   "metadata": {},
   "outputs": [],
   "source": [
    "df_prod_3_positivos.head(5)"
   ]
  },
  {
   "cell_type": "code",
   "execution_count": null,
   "id": "b7c3cf63",
   "metadata": {},
   "outputs": [],
   "source": [
    "df_prod_3_negativos"
   ]
  },
  {
   "cell_type": "code",
   "execution_count": null,
   "id": "af7ef39e",
   "metadata": {},
   "outputs": [],
   "source": []
  },
  {
   "cell_type": "code",
   "execution_count": null,
   "id": "ee8a750c",
   "metadata": {},
   "outputs": [],
   "source": []
  }
 ],
 "metadata": {
  "kernelspec": {
   "display_name": "Python 3 (ipykernel)",
   "language": "python",
   "name": "python3"
  },
  "language_info": {
   "codemirror_mode": {
    "name": "ipython",
    "version": 3
   },
   "file_extension": ".py",
   "mimetype": "text/x-python",
   "name": "python",
   "nbconvert_exporter": "python",
   "pygments_lexer": "ipython3",
   "version": "3.8.10"
  }
 },
 "nbformat": 4,
 "nbformat_minor": 5
}
